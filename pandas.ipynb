{
  "nbformat": 4,
  "nbformat_minor": 0,
  "metadata": {
    "colab": {
      "provenance": [],
      "authorship_tag": "ABX9TyMb4A3AIBbcJtQjGRcgNf3E",
      "include_colab_link": true
    },
    "kernelspec": {
      "name": "python3",
      "display_name": "Python 3"
    },
    "language_info": {
      "name": "python"
    }
  },
  "cells": [
    {
      "cell_type": "markdown",
      "metadata": {
        "id": "view-in-github",
        "colab_type": "text"
      },
      "source": [
        "<a href=\"https://colab.research.google.com/github/PHCoder05/advance-python-practice/blob/main/pandas.ipynb\" target=\"_parent\"><img src=\"https://colab.research.google.com/assets/colab-badge.svg\" alt=\"Open In Colab\"/></a>"
      ]
    },
    {
      "cell_type": "markdown",
      "source": [],
      "metadata": {
        "id": "YthpQUpo76GX"
      }
    },
    {
      "cell_type": "code",
      "execution_count": null,
      "metadata": {
        "colab": {
          "base_uri": "https://localhost:8080/"
        },
        "id": "W7Mmi7GQ7cTg",
        "outputId": "c1305f1e-b6f3-4720-dd48-d2ba4cd662b0"
      },
      "outputs": [
        {
          "output_type": "stream",
          "name": "stdout",
          "text": [
            "Series([], dtype: object)\n"
          ]
        }
      ],
      "source": [
        "import pandas as pd\n",
        "import numpy as np\n",
        "s = pd.Series()\n",
        "print(s)"
      ]
    },
    {
      "cell_type": "markdown",
      "source": [
        "**Create Series from numpy library**"
      ],
      "metadata": {
        "id": "RVbcRrVd74QD"
      }
    },
    {
      "cell_type": "code",
      "source": [
        "df = np.array(['a', 'b' , 'c', 'd' , 'e'])\n",
        "s ="
      ],
      "metadata": {
        "id": "xZIHHkL08FDS"
      },
      "execution_count": null,
      "outputs": []
    },
    {
      "cell_type": "markdown",
      "source": [
        "**Create Empty DataFrame**"
      ],
      "metadata": {
        "id": "wFxAvLHY8nNG"
      }
    },
    {
      "cell_type": "code",
      "source": [
        "# prompt: Create Empty DataFrame using pandas library\n",
        "\n",
        "import pandas as pd\n",
        "import numpy as np\n",
        "#\n",
        "s = pd.Series()\n",
        "print(s)\n",
        "# **Create Series from numpy library**\n",
        "df = np.array(['a', 'b' , 'c', 'd' , 'e'])\n",
        "s = pd.Series(df)\n",
        "# **Create Empty DataFrame**\n",
        "df = pd.DataFrame()\n",
        "print(df)\n"
      ],
      "metadata": {
        "id": "hrqlWtLR8tOd",
        "colab": {
          "base_uri": "https://localhost:8080/"
        },
        "outputId": "9b7f09d2-46db-45da-b31b-bc0a6f485690"
      },
      "execution_count": 1,
      "outputs": [
        {
          "output_type": "stream",
          "name": "stdout",
          "text": [
            "Series([], dtype: object)\n",
            "Empty DataFrame\n",
            "Columns: []\n",
            "Index: []\n"
          ]
        }
      ]
    },
    {
      "cell_type": "markdown",
      "source": [
        "**Create pandas Series**"
      ],
      "metadata": {
        "id": "m4MyDMWZ871y"
      }
    },
    {
      "cell_type": "code",
      "source": [
        "data = pd.Series([10,20,30,40,50])"
      ],
      "metadata": {
        "id": "kS_m1MHm8_0W"
      },
      "execution_count": null,
      "outputs": []
    },
    {
      "cell_type": "markdown",
      "source": [
        "**print Axes**"
      ],
      "metadata": {
        "id": "K4ND4cLd9KIr"
      }
    },
    {
      "cell_type": "code",
      "source": [
        "data = pd.Series([10,20,30,40,50])\n",
        "print(\"1.Axes\")\n",
        "print(data.axes)"
      ],
      "metadata": {
        "colab": {
          "base_uri": "https://localhost:8080/"
        },
        "id": "iDcH9PHc9OD8",
        "outputId": "11e076a2-8c71-47e5-b2ae-36faa7ea9b8d"
      },
      "execution_count": null,
      "outputs": [
        {
          "output_type": "stream",
          "name": "stdout",
          "text": [
            "1.Axes\n",
            "[RangeIndex(start=0, stop=5, step=1)]\n"
          ]
        }
      ]
    },
    {
      "cell_type": "markdown",
      "source": [
        "**Dtype**"
      ],
      "metadata": {
        "id": "-K5CZ-se9kjz"
      }
    },
    {
      "cell_type": "code",
      "source": [
        "print(\"2. Dtype\")\n",
        "print(data.dtype)"
      ],
      "metadata": {
        "colab": {
          "base_uri": "https://localhost:8080/"
        },
        "id": "y9g-hJIy9otu",
        "outputId": "c7d3829f-cf81-4aec-8c5e-0e9a7d113b15"
      },
      "execution_count": null,
      "outputs": [
        {
          "output_type": "stream",
          "name": "stdout",
          "text": [
            "2. Dtype\n",
            "int64\n"
          ]
        }
      ]
    },
    {
      "cell_type": "markdown",
      "source": [
        "**3. Empty**"
      ],
      "metadata": {
        "id": "_dlRe9XG96I8"
      }
    },
    {
      "cell_type": "code",
      "source": [
        "print(\"3. Empty\")\n",
        "print(data.empty)"
      ],
      "metadata": {
        "colab": {
          "base_uri": "https://localhost:8080/"
        },
        "id": "0XZe68f_95gX",
        "outputId": "0a3fbf74-b3aa-43e0-9ef7-6ce170c61e82"
      },
      "execution_count": null,
      "outputs": [
        {
          "output_type": "stream",
          "name": "stdout",
          "text": [
            "3. Empty\n",
            "False\n"
          ]
        }
      ]
    },
    {
      "cell_type": "markdown",
      "source": [
        "**4. Ndim**"
      ],
      "metadata": {
        "id": "2um4eGiX-Gqs"
      }
    },
    {
      "cell_type": "code",
      "source": [
        "print(\"4. Ndim\")\n",
        "print(data.ndim)"
      ],
      "metadata": {
        "colab": {
          "base_uri": "https://localhost:8080/"
        },
        "id": "17bRJ-UE-MLH",
        "outputId": "e292a4e8-4059-4a92-94a0-d0aa6b686dfb"
      },
      "execution_count": null,
      "outputs": [
        {
          "output_type": "stream",
          "name": "stdout",
          "text": [
            "4. Ndim\n",
            "1\n"
          ]
        }
      ]
    },
    {
      "cell_type": "markdown",
      "source": [
        "**5. Size**"
      ],
      "metadata": {
        "id": "dp_I3jY--dgK"
      }
    },
    {
      "cell_type": "code",
      "source": [
        "print(\"5. Size\")\n",
        "print(data.size)"
      ],
      "metadata": {
        "colab": {
          "base_uri": "https://localhost:8080/"
        },
        "id": "dDDmuUyy-n6l",
        "outputId": "e96b3f4e-b7b2-42ae-eb13-debce7b6c42d"
      },
      "execution_count": null,
      "outputs": [
        {
          "output_type": "stream",
          "name": "stdout",
          "text": [
            "5. Size\n",
            "5\n"
          ]
        }
      ]
    },
    {
      "cell_type": "markdown",
      "source": [
        "6. **Values**"
      ],
      "metadata": {
        "id": "YvjkIl3Q-yi8"
      }
    },
    {
      "cell_type": "code",
      "source": [
        "print(\"6. Values\")\n",
        "print(data.values)"
      ],
      "metadata": {
        "colab": {
          "base_uri": "https://localhost:8080/"
        },
        "id": "RjjRzjgt-6_m",
        "outputId": "45124d53-cef8-4d34-fb15-5ca14ddb07ce"
      },
      "execution_count": null,
      "outputs": [
        {
          "output_type": "stream",
          "name": "stdout",
          "text": [
            "6. Values\n",
            "[10 20 30 40 50]\n"
          ]
        }
      ]
    },
    {
      "cell_type": "markdown",
      "source": [
        "**# Descriptive Statistics**\n"
      ],
      "metadata": {
        "id": "HC8tbf3n_-mw"
      }
    },
    {
      "cell_type": "markdown",
      "source": [
        "** Create a pandas DataFrame**"
      ],
      "metadata": {
        "id": "p4ceAc0xAUFZ"
      }
    },
    {
      "cell_type": "code",
      "source": [
        "# using pandas library\n",
        "\n",
        "import pandas as pd\n",
        "import numpy as np\n",
        "\n",
        "# Create a pandas DataFrame\n",
        "data = {'Name': ['Alice', 'Bob', 'Charlie', 'David'],\n",
        "        'Age': [25, 30, 28, 35],\n",
        "        'City': ['New York', 'Los Angeles', 'Chicago', 'Houston']}\n",
        "\n",
        "df = pd.DataFrame(data)\n",
        "print(df)\n"
      ],
      "metadata": {
        "id": "6V3nsa6EAR7w"
      },
      "execution_count": null,
      "outputs": []
    },
    {
      "cell_type": "markdown",
      "source": [
        "**Agrregate Function : **"
      ],
      "metadata": {
        "id": "B0tdek6k4B2Q"
      }
    },
    {
      "cell_type": "code",
      "source": [
        "\n",
        "# Count non-null values in each column\n",
        "print(df.count())\n",
        "\n",
        "# Calculate the mean of numeric columns\n",
        "print(df['Age'].mean())\n",
        "\n",
        "# Find the minimum value in the 'Age' column\n",
        "print(df['Age'].min())\n",
        "\n",
        "# Find the maximum value in the 'Age' column\n",
        "print(df['Age'].max())\n",
        "\n",
        "# Calculate the standard deviation of the 'Age' column\n",
        "print(df['Age'].std())\n",
        "\n",
        "# Calculate the median of the 'Age' column\n",
        "print(df['Age'].median())\n",
        "\n",
        "# Get a summary of descriptive statistics for numeric columns\n",
        "print(df.describe())\n"
      ],
      "metadata": {
        "id": "6pqDMOzN4Ch8"
      },
      "execution_count": null,
      "outputs": []
    },
    {
      "cell_type": "markdown",
      "source": [],
      "metadata": {
        "id": "p_5xkE4C4fkE"
      }
    }
  ]
}