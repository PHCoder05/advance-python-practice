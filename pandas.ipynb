{
  "nbformat": 4,
  "nbformat_minor": 0,
  "metadata": {
    "colab": {
      "provenance": [],
      "authorship_tag": "ABX9TyNYDiYPTqEmXjwXWiiC+N3I"
    },
    "kernelspec": {
      "name": "python3",
      "display_name": "Python 3"
    },
    "language_info": {
      "name": "python"
    }
  },
  "cells": [
    {
      "cell_type": "markdown",
      "source": [],
      "metadata": {
        "id": "YthpQUpo76GX"
      }
    },
    {
      "cell_type": "code",
      "execution_count": 3,
      "metadata": {
        "colab": {
          "base_uri": "https://localhost:8080/"
        },
        "id": "W7Mmi7GQ7cTg",
        "outputId": "c1305f1e-b6f3-4720-dd48-d2ba4cd662b0"
      },
      "outputs": [
        {
          "output_type": "stream",
          "name": "stdout",
          "text": [
            "Series([], dtype: object)\n"
          ]
        }
      ],
      "source": [
        "import pandas as pd\n",
        "import numpy as np\n",
        "s = pd.Series()\n",
        "print(s)"
      ]
    },
    {
      "cell_type": "markdown",
      "source": [
        "**Create Series from numpy library**"
      ],
      "metadata": {
        "id": "RVbcRrVd74QD"
      }
    },
    {
      "cell_type": "code",
      "source": [
        "df = np.array(['a', 'b' , 'c', 'd' , 'e'])\n",
        "s ="
      ],
      "metadata": {
        "id": "xZIHHkL08FDS"
      },
      "execution_count": null,
      "outputs": []
    },
    {
      "cell_type": "markdown",
      "source": [
        "**Create Empty DataFrame**"
      ],
      "metadata": {
        "id": "wFxAvLHY8nNG"
      }
    },
    {
      "cell_type": "code",
      "source": [],
      "metadata": {
        "id": "hrqlWtLR8tOd"
      },
      "execution_count": null,
      "outputs": []
    },
    {
      "cell_type": "markdown",
      "source": [
        "**Create pandas Series**"
      ],
      "metadata": {
        "id": "m4MyDMWZ871y"
      }
    },
    {
      "cell_type": "code",
      "source": [
        "data = pd.Series([10,20,30,40,50])"
      ],
      "metadata": {
        "id": "kS_m1MHm8_0W"
      },
      "execution_count": null,
      "outputs": []
    },
    {
      "cell_type": "markdown",
      "source": [
        "**print Axes**"
      ],
      "metadata": {
        "id": "K4ND4cLd9KIr"
      }
    },
    {
      "cell_type": "code",
      "source": [
        "data = pd.Series([10,20,30,40,50])\n",
        "print(\"1.Axes\")\n",
        "print(data.axes)"
      ],
      "metadata": {
        "colab": {
          "base_uri": "https://localhost:8080/"
        },
        "id": "iDcH9PHc9OD8",
        "outputId": "11e076a2-8c71-47e5-b2ae-36faa7ea9b8d"
      },
      "execution_count": 5,
      "outputs": [
        {
          "output_type": "stream",
          "name": "stdout",
          "text": [
            "1.Axes\n",
            "[RangeIndex(start=0, stop=5, step=1)]\n"
          ]
        }
      ]
    },
    {
      "cell_type": "markdown",
      "source": [
        "**Dtype**"
      ],
      "metadata": {
        "id": "-K5CZ-se9kjz"
      }
    },
    {
      "cell_type": "code",
      "source": [
        "print(\"2. Dtype\")\n",
        "print(data.dtype)"
      ],
      "metadata": {
        "colab": {
          "base_uri": "https://localhost:8080/"
        },
        "id": "y9g-hJIy9otu",
        "outputId": "c7d3829f-cf81-4aec-8c5e-0e9a7d113b15"
      },
      "execution_count": 6,
      "outputs": [
        {
          "output_type": "stream",
          "name": "stdout",
          "text": [
            "2. Dtype\n",
            "int64\n"
          ]
        }
      ]
    },
    {
      "cell_type": "markdown",
      "source": [
        "**3. Empty**"
      ],
      "metadata": {
        "id": "_dlRe9XG96I8"
      }
    },
    {
      "cell_type": "code",
      "source": [
        "print(\"3. Empty\")\n",
        "print(data.empty)"
      ],
      "metadata": {
        "colab": {
          "base_uri": "https://localhost:8080/"
        },
        "id": "0XZe68f_95gX",
        "outputId": "0a3fbf74-b3aa-43e0-9ef7-6ce170c61e82"
      },
      "execution_count": 7,
      "outputs": [
        {
          "output_type": "stream",
          "name": "stdout",
          "text": [
            "3. Empty\n",
            "False\n"
          ]
        }
      ]
    },
    {
      "cell_type": "markdown",
      "source": [
        "**4. Ndim**"
      ],
      "metadata": {
        "id": "2um4eGiX-Gqs"
      }
    },
    {
      "cell_type": "code",
      "source": [
        "print(\"4. Ndim\")\n",
        "print(data.ndim)"
      ],
      "metadata": {
        "colab": {
          "base_uri": "https://localhost:8080/"
        },
        "id": "17bRJ-UE-MLH",
        "outputId": "e292a4e8-4059-4a92-94a0-d0aa6b686dfb"
      },
      "execution_count": 8,
      "outputs": [
        {
          "output_type": "stream",
          "name": "stdout",
          "text": [
            "4. Ndim\n",
            "1\n"
          ]
        }
      ]
    },
    {
      "cell_type": "markdown",
      "source": [
        "**5. Size**"
      ],
      "metadata": {
        "id": "dp_I3jY--dgK"
      }
    },
    {
      "cell_type": "code",
      "source": [
        "print(\"5. Size\")\n",
        "print(data.size)"
      ],
      "metadata": {
        "colab": {
          "base_uri": "https://localhost:8080/"
        },
        "id": "dDDmuUyy-n6l",
        "outputId": "e96b3f4e-b7b2-42ae-eb13-debce7b6c42d"
      },
      "execution_count": 9,
      "outputs": [
        {
          "output_type": "stream",
          "name": "stdout",
          "text": [
            "5. Size\n",
            "5\n"
          ]
        }
      ]
    },
    {
      "cell_type": "markdown",
      "source": [
        "6. **Values**"
      ],
      "metadata": {
        "id": "YvjkIl3Q-yi8"
      }
    },
    {
      "cell_type": "code",
      "source": [
        "print(\"6. Values\")\n",
        "print(data.values)"
      ],
      "metadata": {
        "colab": {
          "base_uri": "https://localhost:8080/"
        },
        "id": "RjjRzjgt-6_m",
        "outputId": "45124d53-cef8-4d34-fb15-5ca14ddb07ce"
      },
      "execution_count": 10,
      "outputs": [
        {
          "output_type": "stream",
          "name": "stdout",
          "text": [
            "6. Values\n",
            "[10 20 30 40 50]\n"
          ]
        }
      ]
    }
  ]
}