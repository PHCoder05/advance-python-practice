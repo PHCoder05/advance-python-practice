{
  "nbformat": 4,
  "nbformat_minor": 0,
  "metadata": {
    "colab": {
      "provenance": [],
      "authorship_tag": "ABX9TyNV7CZmLqGb9O+Fi2yUZpGa",
      "include_colab_link": true
    },
    "kernelspec": {
      "name": "python3",
      "display_name": "Python 3"
    },
    "language_info": {
      "name": "python"
    }
  },
  "cells": [
    {
      "cell_type": "markdown",
      "metadata": {
        "id": "view-in-github",
        "colab_type": "text"
      },
      "source": [
        "<a href=\"https://colab.research.google.com/github/PHCoder05/advance-python-practice/blob/main/Scipy.ipynb\" target=\"_parent\"><img src=\"https://colab.research.google.com/assets/colab-badge.svg\" alt=\"Open In Colab\"/></a>"
      ]
    },
    {
      "cell_type": "markdown",
      "source": [
        "import tensorflow as tf\n",
        "from tensorflow.keras import layers, models\n",
        "                                                           \n",
        "model = models.Sequential([\n",
        "    layers.Embedding(input_dim=10000, output_dim=128, input_length=100),\n",
        "    layers.SimpleRNN(128),\n",
        "    layers.Dense(1, activation='sigmoid')\n",
        "])\n",
        "model.compile(optimizer='adam', loss='binary_crossentropy', metrics=['accuracy'])\n",
        "model.fit(X_train, y_train, epochs=10, validation_data=(X_val, y_val))\n"
      ],
      "metadata": {
        "id": "XY-Ejt3IkDYh"
      }
    },
    {
      "cell_type": "code",
      "source": [
        "import numpy as np\n",
        "from scipy.linalg import det\n",
        "\n",
        "matrix = np.array([[1, 2], [3, 4]])\n",
        "determinant = det(matrix)\n",
        "print(\"Determinant:\", determinant)\n"
      ],
      "metadata": {
        "colab": {
          "base_uri": "https://localhost:8080/"
        },
        "id": "Vu-c8u0KkEOn",
        "outputId": "108c6310-9550-4c36-fc31-890364ce4564"
      },
      "execution_count": 2,
      "outputs": [
        {
          "output_type": "stream",
          "name": "stdout",
          "text": [
            "Determinant: -2.0\n"
          ]
        }
      ]
    },
    {
      "cell_type": "markdown",
      "source": [
        "2. Cholesky Decomposition"
      ],
      "metadata": {
        "id": "7EPmRU5DlWay"
      }
    },
    {
      "cell_type": "code",
      "source": [
        "from scipy.linalg import cholesky\n",
        "\n",
        "A = np.array([[4, 2], [2, 3]])\n",
        "L = cholesky(A, lower=True)\n",
        "print(\"Cholesky Decomposition (L):\\n\", L)\n"
      ],
      "metadata": {
        "colab": {
          "base_uri": "https://localhost:8080/"
        },
        "id": "24IU2ZwblQpQ",
        "outputId": "cb59343d-df03-4017-8eeb-c1e619e70301"
      },
      "execution_count": 3,
      "outputs": [
        {
          "output_type": "stream",
          "name": "stdout",
          "text": [
            "Cholesky Decomposition (L):\n",
            " [[2.         0.        ]\n",
            " [1.         1.41421356]]\n"
          ]
        }
      ]
    },
    {
      "cell_type": "markdown",
      "source": [
        "**2. Optimization (scipy.optimize)**"
      ],
      "metadata": {
        "id": "XafgiOo1mMcm"
      }
    },
    {
      "cell_type": "code",
      "source": [
        "from scipy.optimize import minimize\n",
        "\n",
        "def func(x):\n",
        "    return (x - 3) ** 2\n",
        "\n",
        "result = minimize(func, 0)\n",
        "print(\"Minimum at:\", result.x)\n"
      ],
      "metadata": {
        "colab": {
          "base_uri": "https://localhost:8080/"
        },
        "id": "uEue1xu8rFsZ",
        "outputId": "7226e729-50a7-438d-e464-0d8d98fe007e"
      },
      "execution_count": 4,
      "outputs": [
        {
          "output_type": "stream",
          "name": "stdout",
          "text": [
            "Minimum at: [2.99999998]\n"
          ]
        }
      ]
    },
    {
      "cell_type": "code",
      "source": [
        "from scipy.optimize import curve_fit\n",
        "\n",
        "def linear(x, a, b):\n",
        "    return a * x + b\n",
        "\n",
        "x_data = np.array([1, 2, 3, 4])\n",
        "y_data = np.array([2.1, 4.1, 6.1, 8.1])\n",
        "params, _ = curve_fit(linear, x_data, y_data)\n",
        "print(\"Fitted parameters (a, b):\", params)\n"
      ],
      "metadata": {
        "colab": {
          "base_uri": "https://localhost:8080/"
        },
        "id": "Kjke6Ra2rHim",
        "outputId": "ac058eb3-8106-4843-c225-3bafa0366f06"
      },
      "execution_count": 5,
      "outputs": [
        {
          "output_type": "stream",
          "name": "stdout",
          "text": [
            "Fitted parameters (a, b): [2.  0.1]\n"
          ]
        }
      ]
    },
    {
      "cell_type": "code",
      "source": [
        "result = minimize(func, 0, tol=1e-6)\n",
        "print(\"Minimum with tolerance at:\", result.x)\n"
      ],
      "metadata": {
        "colab": {
          "base_uri": "https://localhost:8080/"
        },
        "id": "_wzW5bhrrKBA",
        "outputId": "3e84ceff-7433-4057-8e07-4b7c582ae2f9"
      },
      "execution_count": 6,
      "outputs": [
        {
          "output_type": "stream",
          "name": "stdout",
          "text": [
            "Minimum with tolerance at: [2.99999998]\n"
          ]
        }
      ]
    },
    {
      "cell_type": "code",
      "source": [
        "from scipy.optimize import minimize\n",
        "\n",
        "constraints = ({'type': 'ineq', 'fun': lambda x: x})  # x must be non-negative\n",
        "result = minimize(func, 0, constraints=constraints)\n",
        "print(\"Constrained minimum at:\", result.x)\n"
      ],
      "metadata": {
        "colab": {
          "base_uri": "https://localhost:8080/"
        },
        "id": "p3Djivb3rN-o",
        "outputId": "bc73f2ef-7ea7-41ac-e5a0-b6981fdbc9a5"
      },
      "execution_count": 7,
      "outputs": [
        {
          "output_type": "stream",
          "name": "stdout",
          "text": [
            "Constrained minimum at: [3.]\n"
          ]
        }
      ]
    },
    {
      "cell_type": "code",
      "source": [
        "from scipy.optimize import linprog\n",
        "\n",
        "c = [-1, -2]\n",
        "A = [[1, 1], [2, 1]]\n",
        "b = [6, 8]\n",
        "result = linprog(c, A_ub=A, b_ub=b)\n",
        "print(\"Linear programming result:\", result)\n"
      ],
      "metadata": {
        "colab": {
          "base_uri": "https://localhost:8080/"
        },
        "id": "1yf-LdCorPr5",
        "outputId": "58fc15f6-dd4c-4fef-92f7-83d3b4055ddd"
      },
      "execution_count": 8,
      "outputs": [
        {
          "output_type": "stream",
          "name": "stdout",
          "text": [
            "Linear programming result:         message: Optimization terminated successfully. (HiGHS Status 7: Optimal)\n",
            "        success: True\n",
            "         status: 0\n",
            "            fun: -12.0\n",
            "              x: [ 0.000e+00  6.000e+00]\n",
            "            nit: 2\n",
            "          lower:  residual: [ 0.000e+00  6.000e+00]\n",
            "                 marginals: [ 1.000e+00  0.000e+00]\n",
            "          upper:  residual: [       inf        inf]\n",
            "                 marginals: [ 0.000e+00  0.000e+00]\n",
            "          eqlin:  residual: []\n",
            "                 marginals: []\n",
            "        ineqlin:  residual: [ 0.000e+00  2.000e+00]\n",
            "                 marginals: [-2.000e+00 -0.000e+00]\n",
            " mip_node_count: 0\n",
            " mip_dual_bound: 0.0\n",
            "        mip_gap: 0.0\n"
          ]
        }
      ]
    },
    {
      "cell_type": "code",
      "source": [
        "from scipy.integrate import quad\n",
        "\n",
        "integral, error = quad(np.sin, 0, np.pi)\n",
        "print(\"Integral of sin from 0 to π:\", integral)\n"
      ],
      "metadata": {
        "colab": {
          "base_uri": "https://localhost:8080/"
        },
        "id": "a0ICajCtrRhT",
        "outputId": "eefb8685-9219-440c-e9ae-94d0f8aead74"
      },
      "execution_count": 9,
      "outputs": [
        {
          "output_type": "stream",
          "name": "stdout",
          "text": [
            "Integral of sin from 0 to π: 2.0\n"
          ]
        }
      ]
    },
    {
      "cell_type": "code",
      "source": [
        "from scipy.integrate import solve_ivp\n",
        "\n",
        "def ode(t, y):\n",
        "    return -2 * y + 1\n",
        "\n",
        "sol = solve_ivp(ode, [0, 5], [0])\n",
        "print(\"ODE solution at t=5:\", sol.y[0, -1])\n"
      ],
      "metadata": {
        "colab": {
          "base_uri": "https://localhost:8080/"
        },
        "id": "o4no289lrTR-",
        "outputId": "9a5ad55d-b371-4cfd-c237-cc89c81b05c0"
      },
      "execution_count": 10,
      "outputs": [
        {
          "output_type": "stream",
          "name": "stdout",
          "text": [
            "ODE solution at t=5: 0.4999314388713356\n"
          ]
        }
      ]
    },
    {
      "cell_type": "code",
      "source": [
        "from scipy.integrate import simps\n",
        "\n",
        "y = np.array([0, 1, 4, 9, 16])\n",
        "x = np.array([0, 1, 2, 3, 4])\n",
        "area = simps(y, x)\n",
        "print(\"Area using Simpson's rule:\", area)\n"
      ],
      "metadata": {
        "colab": {
          "base_uri": "https://localhost:8080/"
        },
        "id": "5q4gDUAGrVLx",
        "outputId": "f8d7a6f9-1da1-4a61-d885-f73d8e46662b"
      },
      "execution_count": 11,
      "outputs": [
        {
          "output_type": "stream",
          "name": "stdout",
          "text": [
            "Area using Simpson's rule: 21.333333333333332\n"
          ]
        },
        {
          "output_type": "stream",
          "name": "stderr",
          "text": [
            "<ipython-input-11-1b629ba06a39>:5: DeprecationWarning: 'scipy.integrate.simps' is deprecated in favour of 'scipy.integrate.simpson' and will be removed in SciPy 1.14.0\n",
            "  area = simps(y, x)\n"
          ]
        }
      ]
    },
    {
      "cell_type": "code",
      "source": [
        "from scipy.integrate import trapz\n",
        "\n",
        "area = trapz(y, x)\n",
        "print(\"Area using trapezoidal rule:\", area)\n"
      ],
      "metadata": {
        "colab": {
          "base_uri": "https://localhost:8080/"
        },
        "id": "sLJfIX14rXl-",
        "outputId": "1b6cfea7-1c6c-4583-ed63-b69c46235391"
      },
      "execution_count": 12,
      "outputs": [
        {
          "output_type": "stream",
          "name": "stdout",
          "text": [
            "Area using trapezoidal rule: 22.0\n"
          ]
        },
        {
          "output_type": "stream",
          "name": "stderr",
          "text": [
            "<ipython-input-12-601b2057d90e>:3: DeprecationWarning: 'scipy.integrate.trapz' is deprecated in favour of 'scipy.integrate.trapezoid' and will be removed in SciPy 1.14.0\n",
            "  area = trapz(y, x)\n"
          ]
        }
      ]
    },
    {
      "cell_type": "code",
      "source": [
        "def system(t, y):\n",
        "    return [y[1], -y[0]]\n",
        "\n",
        "sol = solve_ivp(system, [0, 10], [0, 1])\n",
        "print(\"System ODE solution at t=10:\", sol.y[:, -1])\n"
      ],
      "metadata": {
        "colab": {
          "base_uri": "https://localhost:8080/"
        },
        "id": "tW_wqMlurZ4Z",
        "outputId": "18ed2599-0490-472e-89b3-92338b618324"
      },
      "execution_count": 13,
      "outputs": [
        {
          "output_type": "stream",
          "name": "stdout",
          "text": [
            "System ODE solution at t=10: [-0.54614648 -0.83754524]\n"
          ]
        }
      ]
    },
    {
      "cell_type": "code",
      "source": [
        "from scipy.signal import convolve\n",
        "\n",
        "x = np.array([1, 2, 3])\n",
        "h = np.array([0.5, 0.5])\n",
        "conv_result = convolve(x, h)\n",
        "print(\"Convolution result:\", conv_result)\n"
      ],
      "metadata": {
        "colab": {
          "base_uri": "https://localhost:8080/"
        },
        "id": "GSA7yrOVrb3H",
        "outputId": "95caf598-889a-475d-f706-52571097ec09"
      },
      "execution_count": 14,
      "outputs": [
        {
          "output_type": "stream",
          "name": "stdout",
          "text": [
            "Convolution result: [0.5 1.5 2.5 1.5]\n"
          ]
        }
      ]
    },
    {
      "cell_type": "code",
      "source": [
        "from scipy.signal import butter, filtfilt\n",
        "\n",
        "b, a = butter(4, 0.1)  # 4th order, cutoff frequency 0.1\n",
        "data = np.random.randn(100)\n",
        "filtered_data = filtfilt(b, a, data)\n",
        "print(\"Filtered data (first 5 points):\", filtered_data[:5])\n"
      ],
      "metadata": {
        "colab": {
          "base_uri": "https://localhost:8080/"
        },
        "id": "RMH7eSn5refY",
        "outputId": "3f37c3e1-e977-455a-8a4f-075dcf18fbb7"
      },
      "execution_count": 15,
      "outputs": [
        {
          "output_type": "stream",
          "name": "stdout",
          "text": [
            "Filtered data (first 5 points): [-1.1086043  -0.83287982 -0.5706541  -0.33460075 -0.13513577]\n"
          ]
        }
      ]
    },
    {
      "cell_type": "code",
      "source": [
        "from scipy.signal import freqz\n",
        "\n",
        "w, h = freqz(b, a)\n",
        "print(\"Frequency response (first 5 points):\", h[:5])\n"
      ],
      "metadata": {
        "colab": {
          "base_uri": "https://localhost:8080/"
        },
        "id": "xm-4OOxLrgnK",
        "outputId": "d40ac65c-cc34-49d8-a5b5-3a096bd2c87e"
      },
      "execution_count": 16,
      "outputs": [
        {
          "output_type": "stream",
          "name": "stdout",
          "text": [
            "Frequency response (first 5 points): [1.        +0.j         0.99871908-0.05059832j 0.99487793-0.10108364j\n",
            " 0.98848132-0.15134293j 0.97953722-0.20126311j]\n"
          ]
        }
      ]
    },
    {
      "cell_type": "code",
      "source": [
        "from scipy.signal import find_peaks\n",
        "\n",
        "data = np.array([0, 1, 0, 1, 0])\n",
        "peaks, _ = find_peaks(data)\n",
        "print(\"Peaks found at indices:\", peaks)\n"
      ],
      "metadata": {
        "colab": {
          "base_uri": "https://localhost:8080/"
        },
        "id": "TxSlVnfjriiW",
        "outputId": "fe31915b-6ce3-44d9-d7bb-5b72184f54a4"
      },
      "execution_count": 17,
      "outputs": [
        {
          "output_type": "stream",
          "name": "stdout",
          "text": [
            "Peaks found at indices: [1 3]\n"
          ]
        }
      ]
    },
    {
      "cell_type": "code",
      "source": [
        "from scipy.signal import resample\n",
        "\n",
        "x = np.array([1, 2, 3, 4, 5])\n",
        "resampled_x = resample(x, 10)\n",
        "print(\"Resampled data:\", resampled_x)\n"
      ],
      "metadata": {
        "colab": {
          "base_uri": "https://localhost:8080/"
        },
        "id": "obsAgRcMrkem",
        "outputId": "73041fb6-008a-4493-891f-5c74d9ff1835"
      },
      "execution_count": 18,
      "outputs": [
        {
          "output_type": "stream",
          "name": "stdout",
          "text": [
            "Resampled data: [1.         0.76393202 2.         3.         3.         3.\n",
            " 4.         5.23606798 5.         3.        ]\n"
          ]
        }
      ]
    },
    {
      "cell_type": "code",
      "source": [
        "from scipy.stats import norm\n",
        "\n",
        "mu, std = norm.fit(data)\n",
        "print(\"Fitted mean:\", mu, \"Fitted standard deviation:\", std)\n"
      ],
      "metadata": {
        "colab": {
          "base_uri": "https://localhost:8080/"
        },
        "id": "W4doYxlSrmry",
        "outputId": "1cc4d36d-7e0d-473e-de6d-282dda0c11f0"
      },
      "execution_count": 19,
      "outputs": [
        {
          "output_type": "stream",
          "name": "stdout",
          "text": [
            "Fitted mean: 0.4 Fitted standard deviation: 0.48989794855663565\n"
          ]
        }
      ]
    },
    {
      "cell_type": "code",
      "source": [
        "from scipy.stats import ttest_ind\n",
        "\n",
        "data1 = np.random.normal(0, 1, 100)\n",
        "data2 = np.random.normal(0.5, 1, 100)\n",
        "t_stat, p_value = ttest_ind(data1, data2)\n",
        "print(\"T-statistic:\", t_stat, \"P-value:\", p_value)\n"
      ],
      "metadata": {
        "colab": {
          "base_uri": "https://localhost:8080/"
        },
        "id": "rn2PiDNIroZl",
        "outputId": "45ca3a4d-e23e-4b79-8e49-71165a87e4b2"
      },
      "execution_count": 20,
      "outputs": [
        {
          "output_type": "stream",
          "name": "stdout",
          "text": [
            "T-statistic: -3.758401664193466 P-value: 0.0002249537902522118\n"
          ]
        }
      ]
    },
    {
      "cell_type": "code",
      "source": [
        "from scipy.stats import chisquare\n",
        "\n",
        "observed = [10, 20, 30]\n",
        "expected = [15, 15, 30]\n",
        "chi2_stat, p_val = chisquare(observed, expected)\n",
        "print(\"Chi-square statistic:\", chi2_stat, \"P-value:\", p_val)\n"
      ],
      "metadata": {
        "colab": {
          "base_uri": "https://localhost:8080/"
        },
        "id": "28SWl7kvrqKx",
        "outputId": "fa40812c-a27e-4266-fb6b-849eb1fc17cf"
      },
      "execution_count": 21,
      "outputs": [
        {
          "metadata": {
            "tags": null
          },
          "name": "stdout",
          "output_type": "stream",
          "text": [
            "Chi-square statistic: 3.3333333333333335 P-value: 0.1888756028375618\n"
          ]
        }
      ]
    },
    {
      "cell_type": "code",
      "source": [
        "from scipy.stats import pearsonr\n",
        "\n",
        "corr, _ = pearsonr(data1, data2)\n",
        "print(\"Pearson correlation coefficient:\", corr)\n"
      ],
      "metadata": {
        "colab": {
          "base_uri": "https://localhost:8080/"
        },
        "id": "KSS1KywRrtK9",
        "outputId": "dff6c5d9-ceee-428d-c85b-9ff4024b33ad"
      },
      "execution_count": 22,
      "outputs": [
        {
          "output_type": "stream",
          "name": "stdout",
          "text": [
            "Pearson correlation coefficient: -0.034385208762863224\n"
          ]
        }
      ]
    },
    {
      "cell_type": "code",
      "source": [
        "from scipy.stats import f_oneway\n",
        "\n",
        "f_stat, p_val = f_oneway(data1, data2)\n",
        "print(\"ANOVA F-statistic:\", f_stat, \"P-value:\", p_val)\n"
      ],
      "metadata": {
        "colab": {
          "base_uri": "https://localhost:8080/"
        },
        "id": "LwuoMVUErvg9",
        "outputId": "2ce0bf1e-6de7-477d-9f0a-455a7e760ac0"
      },
      "execution_count": 23,
      "outputs": [
        {
          "output_type": "stream",
          "name": "stdout",
          "text": [
            "ANOVA F-statistic: 14.125583069412217 P-value: 0.00022495379025221177\n"
          ]
        }
      ]
    },
    {
      "cell_type": "code",
      "source": [
        "from scipy.spatial import KDTree\n",
        "\n",
        "points = np.random.rand(10, 2)\n",
        "tree = KDTree(points)\n",
        "distance, index = tree.query([0.5, 0.5])  # Query point\n",
        "print(\"Nearest neighbor distance:\", distance, \"Index:\", index)\n"
      ],
      "metadata": {
        "colab": {
          "base_uri": "https://localhost:8080/"
        },
        "id": "vv6UNQY1rxtx",
        "outputId": "9c8e6e2d-f41f-4322-b955-3d083667644d"
      },
      "execution_count": 27,
      "outputs": [
        {
          "output_type": "stream",
          "name": "stdout",
          "text": [
            "Nearest neighbor distance: 0.19773669041961586 Index: 5\n"
          ]
        }
      ]
    },
    {
      "cell_type": "code",
      "source": [
        "from scipy.spatial import ConvexHull\n",
        "\n",
        "hull = ConvexHull(points)\n",
        "print(\"Convex hull vertices:\", hull.vertices)\n"
      ],
      "metadata": {
        "colab": {
          "base_uri": "https://localhost:8080/"
        },
        "id": "DNJdycCPrz1P",
        "outputId": "ad9adcd9-37d1-4a42-b6e6-f922092b4f3a"
      },
      "execution_count": 28,
      "outputs": [
        {
          "output_type": "stream",
          "name": "stdout",
          "text": [
            "Convex hull vertices: [6 8 0 1 4 2]\n"
          ]
        }
      ]
    },
    {
      "cell_type": "code",
      "source": [
        "from scipy.interpolate import interp1d\n",
        "\n",
        "x = np.array([1, 2, 3, 4])\n",
        "y = np.array([1, 4, 9, 16])\n",
        "f = interp1d(x, y, kind='linear')\n",
        "print(\"Interpolated value at 2.5:\", f(2.5))\n"
      ],
      "metadata": {
        "colab": {
          "base_uri": "https://localhost:8080/"
        },
        "id": "TZy9YtFSr2CG",
        "outputId": "63f852db-6715-497c-87a6-dca3645977a1"
      },
      "execution_count": 29,
      "outputs": [
        {
          "output_type": "stream",
          "name": "stdout",
          "text": [
            "Interpolated value at 2.5: 6.5\n"
          ]
        }
      ]
    },
    {
      "cell_type": "code",
      "source": [
        "from scipy.interpolate import interp2d\n",
        "\n",
        "x = np.array([0, 1, 2])\n",
        "y = np.array([0, 1, 2])\n",
        "z = np.array([[1, 2, 3], [4, 5, 6], [7, 8, 9]])\n",
        "f2d = interp2d(x, y, z, kind='linear')\n",
        "print(\"Interpolated value at (0.5, 0.5):\", f2d(0.5, 0.5))\n"
      ],
      "metadata": {
        "colab": {
          "base_uri": "https://localhost:8080/"
        },
        "id": "5qlNfMuTr3se",
        "outputId": "b34628cd-c661-419d-f1f4-58d20c352a4e"
      },
      "execution_count": 30,
      "outputs": [
        {
          "output_type": "stream",
          "name": "stdout",
          "text": [
            "Interpolated value at (0.5, 0.5): [3.]\n"
          ]
        },
        {
          "output_type": "stream",
          "name": "stderr",
          "text": [
            "<ipython-input-30-339f973ebdf2>:6: DeprecationWarning: `interp2d` is deprecated in SciPy 1.10 and will be removed in SciPy 1.14.0.\n",
            "\n",
            "For legacy code, nearly bug-for-bug compatible replacements are\n",
            "`RectBivariateSpline` on regular grids, and `bisplrep`/`bisplev` for\n",
            "scattered 2D data.\n",
            "\n",
            "In new code, for regular grids use `RegularGridInterpolator` instead.\n",
            "For scattered data, prefer `LinearNDInterpolator` or\n",
            "`CloughTocher2DInterpolator`.\n",
            "\n",
            "For more details see\n",
            "`https://scipy.github.io/devdocs/notebooks/interp_transition_guide.html`\n",
            "\n",
            "  f2d = interp2d(x, y, z, kind='linear')\n",
            "<ipython-input-30-339f973ebdf2>:7: DeprecationWarning: `interp2d` is deprecated in SciPy 1.10 and will be removed in SciPy 1.14.0.\n",
            "\n",
            "For legacy code, nearly bug-for-bug compatible replacements are\n",
            "`RectBivariateSpline` on regular grids, and `bisplrep`/`bisplev` for\n",
            "scattered 2D data.\n",
            "\n",
            "In new code, for regular grids use `RegularGridInterpolator` instead.\n",
            "For scattered data, prefer `LinearNDInterpolator` or\n",
            "`CloughTocher2DInterpolator`.\n",
            "\n",
            "For more details see\n",
            "`https://scipy.github.io/devdocs/notebooks/interp_transition_guide.html`\n",
            "\n",
            "  print(\"Interpolated value at (0.5, 0.5):\", f2d(0.5, 0.5))\n"
          ]
        }
      ]
    },
    {
      "cell_type": "code",
      "source": [
        "from scipy.ndimage import gaussian_filter\n",
        "\n",
        "image = np.random.rand(100, 100)\n",
        "filtered_image = gaussian_filter(image, sigma=1)\n",
        "print(\"Filtered image shape:\", filtered_image.shape)\n"
      ],
      "metadata": {
        "colab": {
          "base_uri": "https://localhost:8080/"
        },
        "id": "smlc3Qsmr5fE",
        "outputId": "5349f4c0-bbfe-4256-c01a-a2dff0bbed16"
      },
      "execution_count": 31,
      "outputs": [
        {
          "output_type": "stream",
          "name": "stdout",
          "text": [
            "Filtered image shape: (100, 100)\n"
          ]
        }
      ]
    }
  ]
}