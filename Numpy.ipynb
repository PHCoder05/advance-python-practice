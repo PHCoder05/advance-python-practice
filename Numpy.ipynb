{
  "nbformat": 4,
  "nbformat_minor": 0,
  "metadata": {
    "colab": {
      "provenance": [],
      "authorship_tag": "ABX9TyNY00Fp+ZYHoItAH08RiSCM",
      "include_colab_link": true
    },
    "kernelspec": {
      "name": "python3",
      "display_name": "Python 3"
    },
    "language_info": {
      "name": "python"
    }
  },
  "cells": [
    {
      "cell_type": "markdown",
      "metadata": {
        "id": "view-in-github",
        "colab_type": "text"
      },
      "source": [
        "<a href=\"https://colab.research.google.com/github/PHCoder05/advance-python-practice/blob/main/Numpy.ipynb\" target=\"_parent\"><img src=\"https://colab.research.google.com/assets/colab-badge.svg\" alt=\"Open In Colab\"/></a>"
      ]
    },
    {
      "cell_type": "markdown",
      "source": [
        "# Introduction to Numpy"
      ],
      "metadata": {
        "id": "GKFi2Fo2GaQe"
      }
    },
    {
      "cell_type": "markdown",
      "source": [
        "**What is NumPy?**\n",
        "\n",
        "- Python library\n",
        "- stands for Numerical Python.\n",
        "- used for working with arrays\n",
        "- linear algebra, fourier transform, and matrices.\n",
        "- created in 2005 by Travis Oliphant.\n",
        "- open source\n",
        "\n",
        "**Why Use NumPy?**\n",
        "\n",
        "- previously list was used at the place of array\n",
        "- it is slow\n",
        "- numpy introduced array Object\n",
        "- it is 50x faster\n",
        "- this array object called as ndarray\n",
        "- used in mostly data science where speed and resoures\n",
        "\n",
        "\n",
        "**Why is NumPy Faster Than Lists?**\n",
        "\n",
        "- one continuous place in memory unlike lists\n",
        "- called locality of reference in computer science\n",
        "- optimized to work with latest CPU architectures.\n",
        "\n",
        "**Which Language is NumPy written in?**\n",
        "\n",
        "- Python\n",
        "- some in c & c++ for faster computation\n",
        "\n",
        "**Where is the NumPy Codebase?**\n",
        "\n",
        "- github repository https://github.com/numpy/numpy\n",
        "\n",
        "**Installation of NumPy**"
      ],
      "metadata": {
        "id": "xP8V1U3g7DTW"
      }
    },
    {
      "cell_type": "code",
      "execution_count": 3,
      "metadata": {
        "colab": {
          "base_uri": "https://localhost:8080/"
        },
        "id": "0zu9TVo-6B11",
        "outputId": "0667dcf9-a28d-41f8-cb35-3a57a0552aba"
      },
      "outputs": [
        {
          "output_type": "stream",
          "name": "stdout",
          "text": [
            "Requirement already satisfied: numpy in /usr/local/lib/python3.10/dist-packages (1.25.2)\n"
          ]
        }
      ],
      "source": [
        "pip install numpy"
      ]
    },
    {
      "cell_type": "markdown",
      "source": [
        "**Checking NumPy Version**"
      ],
      "metadata": {
        "id": "jepa8sgU7CAU"
      }
    },
    {
      "cell_type": "code",
      "source": [
        "import numpy as np\n",
        "\n",
        "print(np.__version__)"
      ],
      "metadata": {
        "colab": {
          "base_uri": "https://localhost:8080/"
        },
        "id": "WK6LQl_qBdWQ",
        "outputId": "c8717336-26c7-43f8-91e4-21a0eca21b77"
      },
      "execution_count": 2,
      "outputs": [
        {
          "output_type": "stream",
          "name": "stdout",
          "text": [
            "1.25.2\n"
          ]
        }
      ]
    },
    {
      "cell_type": "markdown",
      "source": [
        "**Create a NumPy ndarray Object**"
      ],
      "metadata": {
        "id": "ta0EXw1O7CB4"
      }
    },
    {
      "cell_type": "code",
      "source": [
        "import numpy as np\n",
        "\n",
        "arr = np.array([1, 2, 3, 4, 5])\n",
        "\n",
        "print(arr)\n",
        "\n",
        "print(type(arr))"
      ],
      "metadata": {
        "colab": {
          "base_uri": "https://localhost:8080/"
        },
        "id": "1HQFo44oB7hd",
        "outputId": "5d348a42-7a7a-4956-9f68-27eacc7e6114"
      },
      "execution_count": 4,
      "outputs": [
        {
          "output_type": "stream",
          "name": "stdout",
          "text": [
            "[1 2 3 4 5]\n",
            "<class 'numpy.ndarray'>\n"
          ]
        }
      ]
    },
    {
      "cell_type": "markdown",
      "source": [
        "**Check Number of Dimensions?**"
      ],
      "metadata": {
        "id": "sXClBnxMCT2K"
      }
    },
    {
      "cell_type": "code",
      "source": [
        "import numpy as np\n",
        "\n",
        "a = np.array(42)\n",
        "b = np.array([1, 2, 3, 4, 5])\n",
        "c = np.array([[1, 2, 3], [4, 5, 6]])\n",
        "d = np.array([[[1, 2, 3], [4, 5, 6]], [[1, 2, 3], [4, 5, 6]]])\n",
        "\n",
        "print(a.ndim)\n",
        "print(b.ndim)\n",
        "print(c.ndim)\n",
        "print(d.ndim)"
      ],
      "metadata": {
        "colab": {
          "base_uri": "https://localhost:8080/"
        },
        "id": "kEFHvmMWDlUj",
        "outputId": "6a352850-367a-4106-a1d1-f32a1d8ddac1"
      },
      "execution_count": 1,
      "outputs": [
        {
          "output_type": "stream",
          "name": "stdout",
          "text": [
            "0\n",
            "1\n",
            "2\n",
            "3\n"
          ]
        }
      ]
    },
    {
      "cell_type": "markdown",
      "source": [
        "**Higher Dimensional Arrays**"
      ],
      "metadata": {
        "id": "egf12EgyECBC"
      }
    },
    {
      "cell_type": "code",
      "source": [
        "import numpy as np\n",
        "\n",
        "arr = np.array([1, 2, 3, 4], ndmin=5)\n",
        "\n",
        "print(arr)\n",
        "print('number of dimensions :', arr.ndim)"
      ],
      "metadata": {
        "colab": {
          "base_uri": "https://localhost:8080/"
        },
        "id": "FUitYcx3D_wM",
        "outputId": "24b6c616-0240-4d81-ce7c-d44cf7671fec"
      },
      "execution_count": 5,
      "outputs": [
        {
          "output_type": "stream",
          "name": "stdout",
          "text": [
            "[[[[[1 2 3 4]]]]]\n",
            "number of dimensions : 5\n"
          ]
        }
      ]
    },
    {
      "cell_type": "markdown",
      "source": [
        "# NumPy Array Indexing\n"
      ],
      "metadata": {
        "id": "wyyD4uAlFFO3"
      }
    },
    {
      "cell_type": "markdown",
      "source": [],
      "metadata": {
        "id": "LPxVS_16GY9J"
      }
    },
    {
      "cell_type": "markdown",
      "source": [
        "**Access array Element**"
      ],
      "metadata": {
        "id": "mOvweyjbFY-j"
      }
    },
    {
      "cell_type": "code",
      "source": [
        "arr = np.array([1, 2, 3, 4])\n",
        "print(arr[1])"
      ],
      "metadata": {
        "colab": {
          "base_uri": "https://localhost:8080/"
        },
        "id": "cmawDk5BFEop",
        "outputId": "ba0a9725-454e-4255-9ebe-2d6dccb46dfd"
      },
      "execution_count": 7,
      "outputs": [
        {
          "output_type": "stream",
          "name": "stdout",
          "text": [
            "2\n"
          ]
        }
      ]
    },
    {
      "cell_type": "markdown",
      "source": [
        "**Negative Indexing**"
      ],
      "metadata": {
        "id": "xWC-riiXFwIo"
      }
    },
    {
      "cell_type": "code",
      "source": [
        "arr = np.array([[1,2,3,4,5], [6,7,8,9,10]])\n",
        "\n",
        "print('Last element from 2nd dim: ', arr[1, -1])"
      ],
      "metadata": {
        "colab": {
          "base_uri": "https://localhost:8080/"
        },
        "id": "QwfoaL_3GGxq",
        "outputId": "c73a8ab4-eacd-4ee5-fa06-9f425fdd5a3f"
      },
      "execution_count": 8,
      "outputs": [
        {
          "output_type": "stream",
          "name": "stdout",
          "text": [
            "Last element from 2nd dim:  10\n"
          ]
        }
      ]
    },
    {
      "cell_type": "markdown",
      "source": [
        "# NumPy Array Slicing\n",
        "\n"
      ],
      "metadata": {
        "id": "5CgyqZYOGyNB"
      }
    },
    {
      "cell_type": "code",
      "source": [
        "arr = np.array([1, 2, 3, 4, 5, 6, 7])\n",
        "\n",
        "print(arr[1:5])"
      ],
      "metadata": {
        "colab": {
          "base_uri": "https://localhost:8080/"
        },
        "id": "zvkCDI1sHRQp",
        "outputId": "af46211c-9ae3-4673-bc87-9a0d691e7db3"
      },
      "execution_count": 9,
      "outputs": [
        {
          "output_type": "stream",
          "name": "stdout",
          "text": [
            "[2 3 4 5]\n"
          ]
        }
      ]
    },
    {
      "cell_type": "code",
      "source": [
        "arr = np.array([1, 2, 3, 4, 5, 6, 7])\n",
        "\n",
        "print(arr[:4])"
      ],
      "metadata": {
        "colab": {
          "base_uri": "https://localhost:8080/"
        },
        "id": "-kNZXlwGHTPC",
        "outputId": "e8952fc0-17da-4b06-95d7-4b464ddcfce5"
      },
      "execution_count": 10,
      "outputs": [
        {
          "output_type": "stream",
          "name": "stdout",
          "text": [
            "[1 2 3 4]\n"
          ]
        }
      ]
    },
    {
      "cell_type": "markdown",
      "source": [
        "**Negative Slicing**"
      ],
      "metadata": {
        "id": "GsRrDG4jHdvJ"
      }
    },
    {
      "cell_type": "code",
      "source": [
        "arr = np.array([1, 2, 3, 4, 5, 6, 7])\n",
        "\n",
        "print(arr[-3:-1])"
      ],
      "metadata": {
        "colab": {
          "base_uri": "https://localhost:8080/"
        },
        "id": "tn9k_SrMHbPh",
        "outputId": "16c90b28-1f5f-45bf-b911-f39945cc964c"
      },
      "execution_count": 11,
      "outputs": [
        {
          "output_type": "stream",
          "name": "stdout",
          "text": [
            "[5 6]\n"
          ]
        }
      ]
    },
    {
      "cell_type": "markdown",
      "source": [
        "# Steps\n",
        "**Use the step value to determine the step of the slicing:**\n"
      ],
      "metadata": {
        "id": "-iypV-NdHqWg"
      }
    },
    {
      "cell_type": "code",
      "source": [
        "arr = np.array([1, 2, 3, 4, 5, 6, 7])\n",
        "\n",
        "print(arr[1:5:2])\n"
      ],
      "metadata": {
        "colab": {
          "base_uri": "https://localhost:8080/"
        },
        "id": "LGTYa3BtHfmw",
        "outputId": "dfb3b270-710f-42fd-a21c-90567d37c626"
      },
      "execution_count": 12,
      "outputs": [
        {
          "output_type": "stream",
          "name": "stdout",
          "text": [
            "[2 4]\n"
          ]
        }
      ]
    },
    {
      "cell_type": "markdown",
      "source": [
        "Numpy Empty Function"
      ],
      "metadata": {
        "id": "DdimbYNGJQ7I"
      }
    },
    {
      "cell_type": "code",
      "source": [
        "# prompt: data types using numpy\n",
        "\n",
        "# NumPy Data Types\n",
        "# i - integer\n",
        "# b - boolean\n",
        "# u - unsigned integer\n",
        "# f - float\n",
        "# c - complex float\n",
        "# m - timedelta\n",
        "# M - datetime\n",
        "# O - object\n",
        "# S - string\n",
        "# U - unicode string\n",
        "# V - fixed chunk of memory for other type ( void )\n",
        "\n",
        "arr = np.array([1, 2, 3, 4])\n",
        "print(arr.dtype)\n",
        "\n",
        "arr = np.array(['apple', 'banana', 'cherry'])\n",
        "print(arr.dtype)\n",
        "\n",
        "arr = np.array([1, 2, 3, 4], dtype='S')\n",
        "print(arr)\n",
        "print(arr.dtype)\n",
        "\n",
        "# For i, u, f, S and U we can define size as well.\n",
        "arr = np.array([1, 2, 3, 4], dtype='i4')\n",
        "print(arr)\n",
        "print(arr.dtype)\n"
      ],
      "metadata": {
        "colab": {
          "base_uri": "https://localhost:8080/"
        },
        "id": "epoWM1lGJTMB",
        "outputId": "a3a73aff-67cf-4367-fae3-4311583f85b1"
      },
      "execution_count": 14,
      "outputs": [
        {
          "output_type": "stream",
          "name": "stdout",
          "text": [
            "[[4.93811076e-310 0.00000000e+000 0.00000000e+000 0.00000000e+000]\n",
            " [0.00000000e+000 0.00000000e+000 0.00000000e+000 0.00000000e+000]\n",
            " [0.00000000e+000 0.00000000e+000 0.00000000e+000 0.00000000e+000]]\n"
          ]
        }
      ]
    }
  ]
}