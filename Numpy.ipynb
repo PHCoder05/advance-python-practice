{
  "nbformat": 4,
  "nbformat_minor": 0,
  "metadata": {
    "colab": {
      "provenance": [],
      "authorship_tag": "ABX9TyPaiVe84ReJkIYeBMh19BWy"
    },
    "kernelspec": {
      "name": "python3",
      "display_name": "Python 3"
    },
    "language_info": {
      "name": "python"
    }
  },
  "cells": [
    {
      "cell_type": "markdown",
      "source": [
        "**What is NumPy?**\n",
        "\n",
        "- Python library\n",
        "- stands for Numerical Python.\n",
        "- used for working with arrays\n",
        "- linear algebra, fourier transform, and matrices.\n",
        "- created in 2005 by Travis Oliphant.\n",
        "- open source\n",
        "\n",
        "**Why Use NumPy?**\n",
        "\n",
        "- previously list was used at the place of array\n",
        "- it is slow\n",
        "- numpy introduced array Object\n",
        "- it is 50x faster\n",
        "- this array object called as ndarray\n",
        "- used in mostly data science where speed and resoures imp\n"
      ],
      "metadata": {
        "id": "xP8V1U3g7DTW"
      }
    },
    {
      "cell_type": "code",
      "execution_count": null,
      "metadata": {
        "id": "0zu9TVo-6B11"
      },
      "outputs": [],
      "source": []
    },
    {
      "cell_type": "markdown",
      "source": [],
      "metadata": {
        "id": "jepa8sgU7CAU"
      }
    },
    {
      "cell_type": "markdown",
      "source": [],
      "metadata": {
        "id": "ta0EXw1O7CB4"
      }
    }
  ]
}