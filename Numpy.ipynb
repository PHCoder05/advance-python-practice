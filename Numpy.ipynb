{
  "nbformat": 4,
  "nbformat_minor": 0,
  "metadata": {
    "colab": {
      "provenance": [],
      "authorship_tag": "ABX9TyNGK/awlkZM1GYrg/pYMp4l"
    },
    "kernelspec": {
      "name": "python3",
      "display_name": "Python 3"
    },
    "language_info": {
      "name": "python"
    }
  },
  "cells": [
    {
      "cell_type": "markdown",
      "source": [
        "**What is NumPy?**\n",
        "\n",
        "- Python library\n",
        "- stands for Numerical Python.\n",
        "- used for working with arrays\n",
        "- linear algebra, fourier transform, and matrices.\n",
        "- created in 2005 by Travis Oliphant.\n",
        "- open source\n",
        "\n",
        "**Why Use NumPy?**\n",
        "\n",
        "- previously list was used at the place of array\n",
        "- it is slow\n",
        "- numpy introduced array Object\n",
        "- it is 50x faster\n",
        "- this array object called as ndarray\n",
        "- used in mostly data science where speed and resoures\n",
        "\n",
        "\n",
        "**Why is NumPy Faster Than Lists?**\n",
        "\n",
        "- one continuous place in memory unlike lists\n",
        "- called locality of reference in computer science\n",
        "- optimized to work with latest CPU architectures.\n",
        "\n",
        "**Which Language is NumPy written in?**\n",
        "\n",
        "- Python\n",
        "- some in c & c++ for faster computation\n",
        "\n",
        "**Where is the NumPy Codebase?**\n",
        "\n",
        "- github repository https://github.com/numpy/numpy\n",
        "\n",
        "**Installation of NumPy**"
      ],
      "metadata": {
        "id": "xP8V1U3g7DTW"
      }
    },
    {
      "cell_type": "code",
      "execution_count": null,
      "metadata": {
        "id": "0zu9TVo-6B11"
      },
      "outputs": [],
      "source": [
        "pip install numpy"
      ]
    },
    {
      "cell_type": "markdown",
      "source": [
        "**Checking NumPy Version**"
      ],
      "metadata": {
        "id": "jepa8sgU7CAU"
      }
    },
    {
      "cell_type": "code",
      "source": [
        "import numpy as np\n",
        "\n",
        "print(np.__version__)"
      ],
      "metadata": {
        "id": "WK6LQl_qBdWQ"
      },
      "execution_count": null,
      "outputs": []
    },
    {
      "cell_type": "markdown",
      "source": [],
      "metadata": {
        "id": "ta0EXw1O7CB4"
      }
    }
  ]
}