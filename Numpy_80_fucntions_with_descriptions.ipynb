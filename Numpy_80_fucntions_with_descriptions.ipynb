{
  "nbformat": 4,
  "nbformat_minor": 0,
  "metadata": {
    "colab": {
      "provenance": [],
      "authorship_tag": "ABX9TyP5rhsZ362fUgqnvy0Fy7c+",
      "include_colab_link": true
    },
    "kernelspec": {
      "name": "python3",
      "display_name": "Python 3"
    },
    "language_info": {
      "name": "python"
    }
  },
  "cells": [
    {
      "cell_type": "markdown",
      "metadata": {
        "id": "view-in-github",
        "colab_type": "text"
      },
      "source": [
        "<a href=\"https://colab.research.google.com/github/PHCoder05/advance-python-practice/blob/main/Numpy_80_fucntions_with_descriptions.ipynb\" target=\"_parent\"><img src=\"https://colab.research.google.com/assets/colab-badge.svg\" alt=\"Open In Colab\"/></a>"
      ]
    },
    {
      "cell_type": "markdown",
      "source": [
        "# Introduction to Numpy"
      ],
      "metadata": {
        "id": "GKFi2Fo2GaQe"
      }
    },
    {
      "cell_type": "markdown",
      "source": [
        "**What is NumPy?**\n",
        "\n",
        "- Python library\n",
        "- stands for Numerical Python.\n",
        "- used for working with arrays\n",
        "- linear algebra, fourier transform, and matrices.\n",
        "- created in 2005 by Travis Oliphant.\n",
        "- open source\n",
        "\n",
        "**Why Use NumPy?**\n",
        "\n",
        "- previously list was used at the place of array\n",
        "- it is slow\n",
        "- numpy introduced array Object\n",
        "- it is 50x faster\n",
        "- this array object called as ndarray\n",
        "- used in mostly data science where speed and resoures\n",
        "\n",
        "\n",
        "**Why is NumPy Faster Than Lists?**\n",
        "\n",
        "- one continuous place in memory unlike lists\n",
        "- called locality of reference in computer science\n",
        "- optimized to work with latest CPU architectures.\n",
        "\n",
        "**Which Language is NumPy written in?**\n",
        "\n",
        "- Python\n",
        "- some in c & c++ for faster computation\n",
        "\n",
        "**Where is the NumPy Codebase?**\n",
        "\n",
        "- github repository https://github.com/numpy/numpy\n",
        "\n",
        "**Installation of NumPy**"
      ],
      "metadata": {
        "id": "xP8V1U3g7DTW"
      }
    },
    {
      "cell_type": "code",
      "execution_count": null,
      "metadata": {
        "colab": {
          "base_uri": "https://localhost:8080/"
        },
        "id": "0zu9TVo-6B11",
        "outputId": "0667dcf9-a28d-41f8-cb35-3a57a0552aba"
      },
      "outputs": [
        {
          "output_type": "stream",
          "name": "stdout",
          "text": [
            "Requirement already satisfied: numpy in /usr/local/lib/python3.10/dist-packages (1.25.2)\n"
          ]
        }
      ],
      "source": [
        "pip install numpy"
      ]
    },
    {
      "cell_type": "markdown",
      "source": [
        "**Checking NumPy Version**"
      ],
      "metadata": {
        "id": "jepa8sgU7CAU"
      }
    },
    {
      "cell_type": "code",
      "source": [
        "import numpy as np\n",
        "\n",
        "print(np.__version__)"
      ],
      "metadata": {
        "colab": {
          "base_uri": "https://localhost:8080/"
        },
        "id": "WK6LQl_qBdWQ",
        "outputId": "c8717336-26c7-43f8-91e4-21a0eca21b77"
      },
      "execution_count": null,
      "outputs": [
        {
          "output_type": "stream",
          "name": "stdout",
          "text": [
            "1.25.2\n"
          ]
        }
      ]
    },
    {
      "cell_type": "markdown",
      "source": [
        "**Create a NumPy ndarray Object**"
      ],
      "metadata": {
        "id": "ta0EXw1O7CB4"
      }
    },
    {
      "cell_type": "code",
      "source": [
        "import numpy as np\n",
        "\n",
        "arr = np.array([1, 2, 3, 4, 5])\n",
        "\n",
        "print(arr)\n",
        "\n",
        "print(type(arr))"
      ],
      "metadata": {
        "colab": {
          "base_uri": "https://localhost:8080/"
        },
        "id": "1HQFo44oB7hd",
        "outputId": "5d348a42-7a7a-4956-9f68-27eacc7e6114"
      },
      "execution_count": null,
      "outputs": [
        {
          "output_type": "stream",
          "name": "stdout",
          "text": [
            "[1 2 3 4 5]\n",
            "<class 'numpy.ndarray'>\n"
          ]
        }
      ]
    },
    {
      "cell_type": "markdown",
      "source": [
        "**Check Number of Dimensions?**"
      ],
      "metadata": {
        "id": "sXClBnxMCT2K"
      }
    },
    {
      "cell_type": "code",
      "source": [
        "import numpy as np\n",
        "\n",
        "a = np.array(42)\n",
        "b = np.array([1, 2, 3, 4, 5])\n",
        "c = np.array([[1, 2, 3], [4, 5, 6]])\n",
        "d = np.array([[[1, 2, 3], [4, 5, 6]], [[1, 2, 3], [4, 5, 6]]])\n",
        "\n",
        "print(a.ndim)\n",
        "print(b.ndim)\n",
        "print(c.ndim)\n",
        "print(d.ndim)"
      ],
      "metadata": {
        "colab": {
          "base_uri": "https://localhost:8080/"
        },
        "id": "kEFHvmMWDlUj",
        "outputId": "6a352850-367a-4106-a1d1-f32a1d8ddac1"
      },
      "execution_count": null,
      "outputs": [
        {
          "output_type": "stream",
          "name": "stdout",
          "text": [
            "0\n",
            "1\n",
            "2\n",
            "3\n"
          ]
        }
      ]
    },
    {
      "cell_type": "markdown",
      "source": [
        "**Higher Dimensional Arrays**"
      ],
      "metadata": {
        "id": "egf12EgyECBC"
      }
    },
    {
      "cell_type": "code",
      "source": [
        "import numpy as np\n",
        "\n",
        "arr = np.array([1, 2, 3, 4], ndmin=5)\n",
        "\n",
        "print(arr)\n",
        "print('number of dimensions :', arr.ndim)"
      ],
      "metadata": {
        "colab": {
          "base_uri": "https://localhost:8080/"
        },
        "id": "FUitYcx3D_wM",
        "outputId": "24b6c616-0240-4d81-ce7c-d44cf7671fec"
      },
      "execution_count": null,
      "outputs": [
        {
          "output_type": "stream",
          "name": "stdout",
          "text": [
            "[[[[[1 2 3 4]]]]]\n",
            "number of dimensions : 5\n"
          ]
        }
      ]
    },
    {
      "cell_type": "markdown",
      "source": [
        "# NumPy Array Indexing\n"
      ],
      "metadata": {
        "id": "wyyD4uAlFFO3"
      }
    },
    {
      "cell_type": "markdown",
      "source": [],
      "metadata": {
        "id": "LPxVS_16GY9J"
      }
    },
    {
      "cell_type": "markdown",
      "source": [
        "**Access array Element**"
      ],
      "metadata": {
        "id": "mOvweyjbFY-j"
      }
    },
    {
      "cell_type": "code",
      "source": [
        "arr = np.array([1, 2, 3, 4])\n",
        "print(arr[1])"
      ],
      "metadata": {
        "colab": {
          "base_uri": "https://localhost:8080/"
        },
        "id": "cmawDk5BFEop",
        "outputId": "ba0a9725-454e-4255-9ebe-2d6dccb46dfd"
      },
      "execution_count": null,
      "outputs": [
        {
          "output_type": "stream",
          "name": "stdout",
          "text": [
            "2\n"
          ]
        }
      ]
    },
    {
      "cell_type": "markdown",
      "source": [
        "**Negative Indexing**"
      ],
      "metadata": {
        "id": "xWC-riiXFwIo"
      }
    },
    {
      "cell_type": "code",
      "source": [
        "arr = np.array([[1,2,3,4,5], [6,7,8,9,10]])\n",
        "\n",
        "print('Last element from 2nd dim: ', arr[1, -1])"
      ],
      "metadata": {
        "colab": {
          "base_uri": "https://localhost:8080/"
        },
        "id": "QwfoaL_3GGxq",
        "outputId": "c73a8ab4-eacd-4ee5-fa06-9f425fdd5a3f"
      },
      "execution_count": null,
      "outputs": [
        {
          "output_type": "stream",
          "name": "stdout",
          "text": [
            "Last element from 2nd dim:  10\n"
          ]
        }
      ]
    },
    {
      "cell_type": "markdown",
      "source": [
        "# NumPy Array Slicing\n",
        "\n"
      ],
      "metadata": {
        "id": "5CgyqZYOGyNB"
      }
    },
    {
      "cell_type": "code",
      "source": [
        "arr = np.array([1, 2, 3, 4, 5, 6, 7])\n",
        "\n",
        "print(arr[1:5])"
      ],
      "metadata": {
        "colab": {
          "base_uri": "https://localhost:8080/"
        },
        "id": "zvkCDI1sHRQp",
        "outputId": "af46211c-9ae3-4673-bc87-9a0d691e7db3"
      },
      "execution_count": null,
      "outputs": [
        {
          "output_type": "stream",
          "name": "stdout",
          "text": [
            "[2 3 4 5]\n"
          ]
        }
      ]
    },
    {
      "cell_type": "code",
      "source": [
        "arr = np.array([1, 2, 3, 4, 5, 6, 7])\n",
        "\n",
        "print(arr[:4])"
      ],
      "metadata": {
        "colab": {
          "base_uri": "https://localhost:8080/"
        },
        "id": "-kNZXlwGHTPC",
        "outputId": "e8952fc0-17da-4b06-95d7-4b464ddcfce5"
      },
      "execution_count": null,
      "outputs": [
        {
          "output_type": "stream",
          "name": "stdout",
          "text": [
            "[1 2 3 4]\n"
          ]
        }
      ]
    },
    {
      "cell_type": "markdown",
      "source": [
        "**Negative Slicing**"
      ],
      "metadata": {
        "id": "GsRrDG4jHdvJ"
      }
    },
    {
      "cell_type": "code",
      "source": [
        "arr = np.array([1, 2, 3, 4, 5, 6, 7])\n",
        "\n",
        "print(arr[-3:-1])"
      ],
      "metadata": {
        "colab": {
          "base_uri": "https://localhost:8080/"
        },
        "id": "tn9k_SrMHbPh",
        "outputId": "16c90b28-1f5f-45bf-b911-f39945cc964c"
      },
      "execution_count": null,
      "outputs": [
        {
          "output_type": "stream",
          "name": "stdout",
          "text": [
            "[5 6]\n"
          ]
        }
      ]
    },
    {
      "cell_type": "markdown",
      "source": [
        "# Steps\n",
        "**Use the step value to determine the step of the slicing:**\n"
      ],
      "metadata": {
        "id": "-iypV-NdHqWg"
      }
    },
    {
      "cell_type": "code",
      "source": [
        "arr = np.array([1, 2, 3, 4, 5, 6, 7])\n",
        "\n",
        "print(arr[1:5:2])\n"
      ],
      "metadata": {
        "colab": {
          "base_uri": "https://localhost:8080/"
        },
        "id": "LGTYa3BtHfmw",
        "outputId": "dfb3b270-710f-42fd-a21c-90567d37c626"
      },
      "execution_count": null,
      "outputs": [
        {
          "output_type": "stream",
          "name": "stdout",
          "text": [
            "[2 4]\n"
          ]
        }
      ]
    },
    {
      "cell_type": "markdown",
      "source": [
        "Numpy Empty Function"
      ],
      "metadata": {
        "id": "DdimbYNGJQ7I"
      }
    },
    {
      "cell_type": "code",
      "source": [
        "# prompt: data types using numpy\n",
        "\n",
        "# NumPy Data Types\n",
        "# i - integer\n",
        "# b - boolean\n",
        "# u - unsigned integer\n",
        "# f - float\n",
        "# c - complex float\n",
        "# m - timedelta\n",
        "# M - datetime\n",
        "# O - object\n",
        "# S - string\n",
        "# U - unicode string\n",
        "# V - fixed chunk of memory for other type ( void )\n",
        "\n",
        "arr = np.array([1, 2, 3, 4])\n",
        "print(arr.dtype)\n",
        "\n",
        "arr = np.array(['apple', 'banana', 'cherry'])\n",
        "print(arr.dtype)\n",
        "\n",
        "arr = np.array([1, 2, 3, 4], dtype='S')\n",
        "print(arr)\n",
        "print(arr.dtype)\n",
        "\n",
        "# For i, u, f, S and U we can define size as well.\n",
        "arr = np.array([1, 2, 3, 4], dtype='i4')\n",
        "print(arr)\n",
        "print(arr.dtype)\n"
      ],
      "metadata": {
        "colab": {
          "base_uri": "https://localhost:8080/"
        },
        "id": "epoWM1lGJTMB",
        "outputId": "a3a73aff-67cf-4367-fae3-4311583f85b1"
      },
      "execution_count": null,
      "outputs": [
        {
          "output_type": "stream",
          "name": "stdout",
          "text": [
            "[[4.93811076e-310 0.00000000e+000 0.00000000e+000 0.00000000e+000]\n",
            " [0.00000000e+000 0.00000000e+000 0.00000000e+000 0.00000000e+000]\n",
            " [0.00000000e+000 0.00000000e+000 0.00000000e+000 0.00000000e+000]]\n"
          ]
        }
      ]
    },
    {
      "cell_type": "markdown",
      "source": [
        "**The np.arange() function is used to create arrays with regularly spaced values within a specified range.**"
      ],
      "metadata": {
        "id": "UXMx_AFIBF0S"
      }
    },
    {
      "cell_type": "code",
      "source": [
        "import numpy as np\n",
        "array = np.arange(5)\n",
        "print(array)\n"
      ],
      "metadata": {
        "colab": {
          "base_uri": "https://localhost:8080/"
        },
        "id": "JSSmevnuBHkd",
        "outputId": "af747db0-5dab-4655-dc90-ac70a4beea12"
      },
      "execution_count": 1,
      "outputs": [
        {
          "output_type": "stream",
          "name": "stdout",
          "text": [
            "[0 1 2 3 4]\n"
          ]
        }
      ]
    },
    {
      "cell_type": "markdown",
      "source": [
        "**The np.zeros() function is part of the NumPy library and is used to create a new array filled with zeros.**"
      ],
      "metadata": {
        "id": "SNuh0VErBwxV"
      }
    },
    {
      "cell_type": "code",
      "source": [
        "import numpy as np\n",
        "array = np.zeros(5)\n",
        "print(array)\n"
      ],
      "metadata": {
        "colab": {
          "base_uri": "https://localhost:8080/"
        },
        "id": "CNGT3VHRCGdS",
        "outputId": "cbcc2520-5370-46fc-bfd7-925abd3a733a"
      },
      "execution_count": 2,
      "outputs": [
        {
          "output_type": "stream",
          "name": "stdout",
          "text": [
            "[0. 0. 0. 0. 0.]\n"
          ]
        }
      ]
    },
    {
      "cell_type": "markdown",
      "source": [
        "**The np.ones() function returns a numpy.ndarray with the specified shape and data type, where all elements are initialized to one.**"
      ],
      "metadata": {
        "id": "C4Hy-69VCXKK"
      }
    },
    {
      "cell_type": "code",
      "source": [
        "import numpy as np\n",
        "array = np.ones(5)\n",
        "print(array)\n"
      ],
      "metadata": {
        "colab": {
          "base_uri": "https://localhost:8080/"
        },
        "id": "lUgYEq9FCUck",
        "outputId": "78db82a2-7938-4e5c-c978-bef194d56fa0"
      },
      "execution_count": 3,
      "outputs": [
        {
          "output_type": "stream",
          "name": "stdout",
          "text": [
            "[1. 1. 1. 1. 1.]\n"
          ]
        }
      ]
    },
    {
      "cell_type": "markdown",
      "source": [
        "**The np.empty() function in NumPy is used to create a new array with uninitialized values.**"
      ],
      "metadata": {
        "id": "OeN5vg3VC4uE"
      }
    },
    {
      "cell_type": "code",
      "source": [
        "import numpy as np\n",
        "array = np.empty(5)\n",
        "print(array)\n"
      ],
      "metadata": {
        "colab": {
          "base_uri": "https://localhost:8080/"
        },
        "id": "lI8FlQ8yC4P0",
        "outputId": "750ad846-6a9c-467e-ff75-998e4a6c260f"
      },
      "execution_count": 4,
      "outputs": [
        {
          "output_type": "stream",
          "name": "stdout",
          "text": [
            "[0. 0. 0. 0. 0.]\n"
          ]
        }
      ]
    },
    {
      "cell_type": "markdown",
      "source": [
        "**The fill() method is used to set all elements of the array to a specified value. This method modifies the array in-place, meaning that it changes the array directly without creating a new one.**\n"
      ],
      "metadata": {
        "id": "smZKqFFjDTfX"
      }
    },
    {
      "cell_type": "code",
      "source": [
        "import numpy as np\n",
        "array = np.array([1, 2, 3, 4, 5])\n",
        "array.fill(0)\n",
        "print(array)\n"
      ],
      "metadata": {
        "colab": {
          "base_uri": "https://localhost:8080/"
        },
        "id": "7Ftqn43nDXfW",
        "outputId": "44b643b8-34f8-4691-da33-545cdd8e8297"
      },
      "execution_count": 5,
      "outputs": [
        {
          "output_type": "stream",
          "name": "stdout",
          "text": [
            "[0 0 0 0 0]\n"
          ]
        }
      ]
    },
    {
      "cell_type": "markdown",
      "source": [
        "**The np.linspace() function is used to generate linearly spaced values between a specified start and stop value.**"
      ],
      "metadata": {
        "id": "tjMXaQqxDs5_"
      }
    },
    {
      "cell_type": "code",
      "source": [
        "import numpy as np\n",
        "array = np.linspace(0, 1, num=5)\n",
        "print(array)\n"
      ],
      "metadata": {
        "colab": {
          "base_uri": "https://localhost:8080/"
        },
        "id": "_vXz3ckHDwsO",
        "outputId": "9f459a8c-652d-447a-d052-3dca981674b7"
      },
      "execution_count": 6,
      "outputs": [
        {
          "output_type": "stream",
          "name": "stdout",
          "text": [
            "[0.   0.25 0.5  0.75 1.  ]\n"
          ]
        }
      ]
    },
    {
      "cell_type": "markdown",
      "source": [
        "**The np.logspace() function in NumPy generates numbers spaced evenly on a log scale.**"
      ],
      "metadata": {
        "id": "kdAFnbMhD2L3"
      }
    },
    {
      "cell_type": "code",
      "source": [
        "import numpy as np\n",
        "array = np.logspace(0, 1, num=5)\n",
        "print(array)\n"
      ],
      "metadata": {
        "colab": {
          "base_uri": "https://localhost:8080/"
        },
        "id": "LGW4qbKbD1if",
        "outputId": "f373634c-4059-4b8e-d130-7df3c0110e54"
      },
      "execution_count": 7,
      "outputs": [
        {
          "output_type": "stream",
          "name": "stdout",
          "text": [
            "[ 1.          1.77827941  3.16227766  5.62341325 10.        ]\n"
          ]
        }
      ]
    },
    {
      "cell_type": "markdown",
      "source": [
        "#Aggregate Functions"
      ],
      "metadata": {
        "id": "qqf92ZXLFf9r"
      }
    },
    {
      "cell_type": "markdown",
      "source": [
        "**1. np.min()**"
      ],
      "metadata": {
        "id": "CAw4PMw4FljF"
      }
    },
    {
      "cell_type": "markdown",
      "source": [
        "Computes the minimum value of an array."
      ],
      "metadata": {
        "id": "Rcf1QKA-D1a_"
      }
    },
    {
      "cell_type": "code",
      "source": [
        "import numpy as np\n",
        "\n",
        "array = np.array([[1, 2, 3], [4, 5, 6]])\n",
        "print(np.min(array))\n"
      ],
      "metadata": {
        "colab": {
          "base_uri": "https://localhost:8080/"
        },
        "id": "B1INX6HaF2sk",
        "outputId": "0d882268-898e-4a45-dfae-3ef050879762"
      },
      "execution_count": 8,
      "outputs": [
        {
          "output_type": "stream",
          "name": "stdout",
          "text": [
            "1\n"
          ]
        }
      ]
    },
    {
      "cell_type": "markdown",
      "source": [
        "**2. np.max()**"
      ],
      "metadata": {
        "id": "ds8QMqiNF-c5"
      }
    },
    {
      "cell_type": "markdown",
      "source": [
        "Computes the maximum value of an array.\n",
        "\n"
      ],
      "metadata": {
        "id": "XJQuC_9LF-Mm"
      }
    },
    {
      "cell_type": "code",
      "source": [
        "import numpy as np\n",
        "\n",
        "array = np.array([[1, 2, 3], [4, 5, 6]])\n",
        "print(np.max(array))\n"
      ],
      "metadata": {
        "colab": {
          "base_uri": "https://localhost:8080/"
        },
        "id": "SuGRMB7FF2rm",
        "outputId": "73887fdb-c546-458a-b562-49464940ed77"
      },
      "execution_count": 9,
      "outputs": [
        {
          "output_type": "stream",
          "name": "stdout",
          "text": [
            "6\n"
          ]
        }
      ]
    },
    {
      "cell_type": "markdown",
      "source": [
        "**3. np.sum()**"
      ],
      "metadata": {
        "id": "dt2r8wVRF6IF"
      }
    },
    {
      "cell_type": "markdown",
      "source": [
        "Computes the sum of array elements."
      ],
      "metadata": {
        "id": "74jvUV-GF581"
      }
    },
    {
      "cell_type": "code",
      "source": [
        "import numpy as np\n",
        "\n",
        "array = np.array([[1, 2, 3], [4, 5, 6]])\n",
        "print(np.sum(array))\n"
      ],
      "metadata": {
        "colab": {
          "base_uri": "https://localhost:8080/"
        },
        "id": "6Mrdko7pG7hK",
        "outputId": "d00a17ff-f152-4e88-da4f-3d3a8fb11b01"
      },
      "execution_count": 10,
      "outputs": [
        {
          "output_type": "stream",
          "name": "stdout",
          "text": [
            "21\n"
          ]
        }
      ]
    },
    {
      "cell_type": "markdown",
      "source": [
        "**4. np.mean()**"
      ],
      "metadata": {
        "id": "NFXkD4PaHBNh"
      }
    },
    {
      "cell_type": "markdown",
      "source": [
        "Computes the arithmetic mean of array elements."
      ],
      "metadata": {
        "id": "aIRsk-Y3HIEo"
      }
    },
    {
      "cell_type": "code",
      "source": [
        "import numpy as np\n",
        "\n",
        "array = np.array([[1, 2, 3], [4, 5, 6]])\n",
        "print(np.mean(array))\n"
      ],
      "metadata": {
        "colab": {
          "base_uri": "https://localhost:8080/"
        },
        "id": "sg7dCO_1HDDA",
        "outputId": "10852d4f-5d25-4a77-9764-3041340d4d87"
      },
      "execution_count": 11,
      "outputs": [
        {
          "output_type": "stream",
          "name": "stdout",
          "text": [
            "3.5\n"
          ]
        }
      ]
    },
    {
      "cell_type": "markdown",
      "source": [
        "**5. np.median()**"
      ],
      "metadata": {
        "id": "_8KbM-FTHRuV"
      }
    },
    {
      "cell_type": "markdown",
      "source": [
        "Computes the median of array elements."
      ],
      "metadata": {
        "id": "dy5caxhTHRjD"
      }
    },
    {
      "cell_type": "code",
      "source": [
        "import numpy as np\n",
        "\n",
        "array = np.array([[1, 2, 3], [4, 5, 6]])\n",
        "print(np.median(array))\n"
      ],
      "metadata": {
        "colab": {
          "base_uri": "https://localhost:8080/"
        },
        "id": "58gGlfkCHZMd",
        "outputId": "25640ce6-6cb5-4595-8c12-395067b1419d"
      },
      "execution_count": 12,
      "outputs": [
        {
          "output_type": "stream",
          "name": "stdout",
          "text": [
            "3.5\n"
          ]
        }
      ]
    },
    {
      "cell_type": "markdown",
      "source": [
        "**6. np.std()**"
      ],
      "metadata": {
        "id": "WRLOmkq-HcXg"
      }
    },
    {
      "cell_type": "markdown",
      "source": [
        "Computes the standard deviation of array elements."
      ],
      "metadata": {
        "id": "HIK0ena_HcLY"
      }
    },
    {
      "cell_type": "code",
      "source": [
        "import numpy as np\n",
        "\n",
        "array = np.array([[1, 2, 3], [4, 5, 6]])\n",
        "print(np.std(array))\n"
      ],
      "metadata": {
        "colab": {
          "base_uri": "https://localhost:8080/"
        },
        "id": "-6p3Rtu5H6Tr",
        "outputId": "6e0b43ba-f823-4084-85a8-5a013e7bb8c8"
      },
      "execution_count": 13,
      "outputs": [
        {
          "output_type": "stream",
          "name": "stdout",
          "text": [
            "1.707825127659933\n"
          ]
        }
      ]
    },
    {
      "cell_type": "markdown",
      "source": [
        "**7. np.var()**"
      ],
      "metadata": {
        "id": "K76bp7-zICOW"
      }
    },
    {
      "cell_type": "markdown",
      "source": [
        "Computes the variance of array elements."
      ],
      "metadata": {
        "id": "xFI-NFdNICKG"
      }
    },
    {
      "cell_type": "code",
      "source": [
        "import numpy as np\n",
        "\n",
        "array = np.array([[1, 2, 3], [4, 5, 6]])\n",
        "print(np.var(array))\n"
      ],
      "metadata": {
        "colab": {
          "base_uri": "https://localhost:8080/"
        },
        "id": "RG-YMmEAIGcO",
        "outputId": "df02d9de-1c4b-4e3e-f768-41c139a361d7"
      },
      "execution_count": 14,
      "outputs": [
        {
          "output_type": "stream",
          "name": "stdout",
          "text": [
            "2.9166666666666665\n"
          ]
        }
      ]
    },
    {
      "cell_type": "markdown",
      "source": [
        "#Numpy other Functions"
      ],
      "metadata": {
        "id": "vwsA-gr0ITOC"
      }
    },
    {
      "cell_type": "markdown",
      "source": [
        "**np.random.random()**\n"
      ],
      "metadata": {
        "id": "RGhtSqddITKY"
      }
    },
    {
      "cell_type": "markdown",
      "source": [
        "Generates random numbers from a uniform distribution over [0, 1). This means that the generated numbers will be between 0 (inclusive) and 1 (exclusive."
      ],
      "metadata": {
        "id": "EA1YUMA-JSqM"
      }
    },
    {
      "cell_type": "code",
      "source": [
        "import numpy as np\n",
        "\n",
        "random_number = np.random.random()\n",
        "print(random_number)\n"
      ],
      "metadata": {
        "colab": {
          "base_uri": "https://localhost:8080/"
        },
        "id": "ZrAJW2vsISnD",
        "outputId": "dde3579e-1642-4042-89a0-d5f1cd856447"
      },
      "execution_count": 16,
      "outputs": [
        {
          "output_type": "stream",
          "name": "stdout",
          "text": [
            "0.9953520015327874\n"
          ]
        }
      ]
    },
    {
      "cell_type": "markdown",
      "source": [
        "**The np.stack() function in NumPy is used to join a sequence of arrays along a new axis. This is particularly useful for combining multiple arrays of the same shape into a single multidimensional array.**"
      ],
      "metadata": {
        "id": "eyTqOmIcIScu"
      }
    },
    {
      "cell_type": "code",
      "source": [
        "import numpy as np\n",
        "\n",
        "a = np.array([1, 2, 3])\n",
        "b = np.array([4, 5, 6])\n",
        "c = np.array([7, 8, 9])\n",
        "\n",
        "result = np.stack((a, b, c), axis=0)\n",
        "print(result)\n"
      ],
      "metadata": {
        "colab": {
          "base_uri": "https://localhost:8080/"
        },
        "id": "jsY9OQC3ISmG",
        "outputId": "8b9b2f6c-5799-46e4-e91a-8f0b01a75a9b"
      },
      "execution_count": 17,
      "outputs": [
        {
          "output_type": "stream",
          "name": "stdout",
          "text": [
            "[[1 2 3]\n",
            " [4 5 6]\n",
            " [7 8 9]]\n"
          ]
        }
      ]
    },
    {
      "cell_type": "markdown",
      "source": [
        "**The np.split() function returns a list of sub-arrays obtained by splitting the input array.**"
      ],
      "metadata": {
        "id": "VLSOa2v9ISYv"
      }
    },
    {
      "cell_type": "code",
      "source": [
        "import numpy as np\n",
        "\n",
        "array = np.array([1, 2, 3, 4, 5, 6])\n",
        "result = np.split(array, 3)\n",
        "print(result)\n"
      ],
      "metadata": {
        "colab": {
          "base_uri": "https://localhost:8080/"
        },
        "id": "zK-L_hhMKiPa",
        "outputId": "756f962a-204c-4fce-bcfb-0f5f3de98465"
      },
      "execution_count": 18,
      "outputs": [
        {
          "output_type": "stream",
          "name": "stdout",
          "text": [
            "[array([1, 2]), array([3, 4]), array([5, 6])]\n"
          ]
        }
      ]
    },
    {
      "cell_type": "markdown",
      "source": [
        "**The np.sort() function in NumPy is used to sort an array along a specified axis. It returns a sorted copy of the array, leaving the original array unchanged.**"
      ],
      "metadata": {
        "id": "PE3bYfV0Ke9Q"
      }
    },
    {
      "cell_type": "code",
      "source": [
        "import numpy as np\n",
        "\n",
        "array = np.array([3, 1, 2, 5, 4])\n",
        "sorted_array = np.sort(array)\n",
        "print(sorted_array)\n"
      ],
      "metadata": {
        "colab": {
          "base_uri": "https://localhost:8080/"
        },
        "id": "t9ukXGhzK2Gh",
        "outputId": "6f0658bf-94c8-4534-e966-85b370b1ca6f"
      },
      "execution_count": 19,
      "outputs": [
        {
          "output_type": "stream",
          "name": "stdout",
          "text": [
            "[1 2 3 4 5]\n"
          ]
        }
      ]
    }
  ]
}